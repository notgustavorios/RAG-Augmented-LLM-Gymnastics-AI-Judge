{
 "cells": [
  {
   "cell_type": "code",
   "execution_count": 1,
   "id": "5550067b",
   "metadata": {},
   "outputs": [
    {
     "name": "stdout",
     "output_type": "stream",
     "text": [
      "Note: you may need to restart the kernel to use updated packages.\n"
     ]
    }
   ],
   "source": [
    "%pip install --quiet --upgrade langchain langchain-community langchain-chroma"
   ]
  },
  {
   "cell_type": "code",
   "execution_count": 2,
   "id": "dd9b0578",
   "metadata": {},
   "outputs": [
    {
     "name": "stdout",
     "output_type": "stream",
     "text": [
      "Requirement already satisfied: langchain in /Users/gustavo/anaconda3/lib/python3.11/site-packages (0.3.7)\n",
      "Requirement already satisfied: langchain-openai in /Users/gustavo/anaconda3/lib/python3.11/site-packages (0.2.6)\n",
      "Requirement already satisfied: PyYAML>=5.3 in /Users/gustavo/anaconda3/lib/python3.11/site-packages (from langchain) (6.0.1)\n",
      "Requirement already satisfied: SQLAlchemy<3,>=1.4 in /Users/gustavo/anaconda3/lib/python3.11/site-packages (from langchain) (2.0.21)\n",
      "Requirement already satisfied: aiohttp<4.0.0,>=3.8.3 in /Users/gustavo/anaconda3/lib/python3.11/site-packages (from langchain) (3.8.5)\n",
      "Requirement already satisfied: langchain-core<0.4.0,>=0.3.15 in /Users/gustavo/anaconda3/lib/python3.11/site-packages (from langchain) (0.3.15)\n",
      "Requirement already satisfied: langchain-text-splitters<0.4.0,>=0.3.0 in /Users/gustavo/anaconda3/lib/python3.11/site-packages (from langchain) (0.3.2)\n",
      "Requirement already satisfied: langsmith<0.2.0,>=0.1.17 in /Users/gustavo/anaconda3/lib/python3.11/site-packages (from langchain) (0.1.136)\n",
      "Requirement already satisfied: numpy<2,>=1 in /Users/gustavo/anaconda3/lib/python3.11/site-packages (from langchain) (1.24.3)\n",
      "Requirement already satisfied: pydantic<3.0.0,>=2.7.4 in /Users/gustavo/anaconda3/lib/python3.11/site-packages (from langchain) (2.9.2)\n",
      "Requirement already satisfied: requests<3,>=2 in /Users/gustavo/anaconda3/lib/python3.11/site-packages (from langchain) (2.31.0)\n",
      "Requirement already satisfied: tenacity!=8.4.0,<10,>=8.1.0 in /Users/gustavo/anaconda3/lib/python3.11/site-packages (from langchain) (8.5.0)\n",
      "Requirement already satisfied: openai<2.0.0,>=1.54.0 in /Users/gustavo/anaconda3/lib/python3.11/site-packages (from langchain-openai) (1.54.3)\n",
      "Requirement already satisfied: tiktoken<1,>=0.7 in /Users/gustavo/anaconda3/lib/python3.11/site-packages (from langchain-openai) (0.7.0)\n",
      "Requirement already satisfied: attrs>=17.3.0 in /Users/gustavo/anaconda3/lib/python3.11/site-packages (from aiohttp<4.0.0,>=3.8.3->langchain) (23.1.0)\n",
      "Requirement already satisfied: charset-normalizer<4.0,>=2.0 in /Users/gustavo/anaconda3/lib/python3.11/site-packages (from aiohttp<4.0.0,>=3.8.3->langchain) (2.0.4)\n",
      "Requirement already satisfied: multidict<7.0,>=4.5 in /Users/gustavo/anaconda3/lib/python3.11/site-packages (from aiohttp<4.0.0,>=3.8.3->langchain) (6.0.2)\n",
      "Requirement already satisfied: async-timeout<5.0,>=4.0.0a3 in /Users/gustavo/anaconda3/lib/python3.11/site-packages (from aiohttp<4.0.0,>=3.8.3->langchain) (4.0.2)\n",
      "Requirement already satisfied: yarl<2.0,>=1.0 in /Users/gustavo/anaconda3/lib/python3.11/site-packages (from aiohttp<4.0.0,>=3.8.3->langchain) (1.8.1)\n",
      "Requirement already satisfied: frozenlist>=1.1.1 in /Users/gustavo/anaconda3/lib/python3.11/site-packages (from aiohttp<4.0.0,>=3.8.3->langchain) (1.4.0)\n",
      "Requirement already satisfied: aiosignal>=1.1.2 in /Users/gustavo/anaconda3/lib/python3.11/site-packages (from aiohttp<4.0.0,>=3.8.3->langchain) (1.2.0)\n",
      "Requirement already satisfied: jsonpatch<2.0,>=1.33 in /Users/gustavo/anaconda3/lib/python3.11/site-packages (from langchain-core<0.4.0,>=0.3.15->langchain) (1.33)\n",
      "Requirement already satisfied: packaging<25,>=23.2 in /Users/gustavo/anaconda3/lib/python3.11/site-packages (from langchain-core<0.4.0,>=0.3.15->langchain) (24.1)\n",
      "Requirement already satisfied: typing-extensions>=4.7 in /Users/gustavo/anaconda3/lib/python3.11/site-packages (from langchain-core<0.4.0,>=0.3.15->langchain) (4.12.2)\n",
      "Requirement already satisfied: httpx<1,>=0.23.0 in /Users/gustavo/anaconda3/lib/python3.11/site-packages (from langsmith<0.2.0,>=0.1.17->langchain) (0.27.2)\n",
      "Requirement already satisfied: orjson<4.0.0,>=3.9.14 in /Users/gustavo/anaconda3/lib/python3.11/site-packages (from langsmith<0.2.0,>=0.1.17->langchain) (3.10.7)\n",
      "Requirement already satisfied: requests-toolbelt<2.0.0,>=1.0.0 in /Users/gustavo/anaconda3/lib/python3.11/site-packages (from langsmith<0.2.0,>=0.1.17->langchain) (1.0.0)\n",
      "Requirement already satisfied: anyio<5,>=3.5.0 in /Users/gustavo/anaconda3/lib/python3.11/site-packages (from openai<2.0.0,>=1.54.0->langchain-openai) (3.5.0)\n",
      "Requirement already satisfied: distro<2,>=1.7.0 in /Users/gustavo/anaconda3/lib/python3.11/site-packages (from openai<2.0.0,>=1.54.0->langchain-openai) (1.9.0)\n",
      "Requirement already satisfied: jiter<1,>=0.4.0 in /Users/gustavo/anaconda3/lib/python3.11/site-packages (from openai<2.0.0,>=1.54.0->langchain-openai) (0.6.1)\n",
      "Requirement already satisfied: sniffio in /Users/gustavo/anaconda3/lib/python3.11/site-packages (from openai<2.0.0,>=1.54.0->langchain-openai) (1.2.0)\n",
      "Requirement already satisfied: tqdm>4 in /Users/gustavo/anaconda3/lib/python3.11/site-packages (from openai<2.0.0,>=1.54.0->langchain-openai) (4.65.0)\n",
      "Requirement already satisfied: annotated-types>=0.6.0 in /Users/gustavo/anaconda3/lib/python3.11/site-packages (from pydantic<3.0.0,>=2.7.4->langchain) (0.7.0)\n",
      "Requirement already satisfied: pydantic-core==2.23.4 in /Users/gustavo/anaconda3/lib/python3.11/site-packages (from pydantic<3.0.0,>=2.7.4->langchain) (2.23.4)\n",
      "Requirement already satisfied: idna<4,>=2.5 in /Users/gustavo/anaconda3/lib/python3.11/site-packages (from requests<3,>=2->langchain) (3.4)\n",
      "Requirement already satisfied: urllib3<3,>=1.21.1 in /Users/gustavo/anaconda3/lib/python3.11/site-packages (from requests<3,>=2->langchain) (1.26.18)\n",
      "Requirement already satisfied: certifi>=2017.4.17 in /Users/gustavo/anaconda3/lib/python3.11/site-packages (from requests<3,>=2->langchain) (2024.8.30)\n",
      "Requirement already satisfied: regex>=2022.1.18 in /Users/gustavo/anaconda3/lib/python3.11/site-packages (from tiktoken<1,>=0.7->langchain-openai) (2023.10.3)\n",
      "Requirement already satisfied: httpcore==1.* in /Users/gustavo/anaconda3/lib/python3.11/site-packages (from httpx<1,>=0.23.0->langsmith<0.2.0,>=0.1.17->langchain) (1.0.6)\n",
      "Requirement already satisfied: h11<0.15,>=0.13 in /Users/gustavo/anaconda3/lib/python3.11/site-packages (from httpcore==1.*->httpx<1,>=0.23.0->langsmith<0.2.0,>=0.1.17->langchain) (0.14.0)\n",
      "Requirement already satisfied: jsonpointer>=1.9 in /Users/gustavo/anaconda3/lib/python3.11/site-packages (from jsonpatch<2.0,>=1.33->langchain-core<0.4.0,>=0.3.15->langchain) (2.1)\n",
      "Note: you may need to restart the kernel to use updated packages.\n"
     ]
    }
   ],
   "source": [
    "# LangsSmith API key: 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\n",
    "%pip install --quiet -U langchain langchain-openai"
   ]
  },
  {
   "cell_type": "code",
   "execution_count": null,
   "id": "af06e763",
   "metadata": {},
   "outputs": [],
   "source": [
    "import os\n",
    "os.environ['LANGCHAIN_TRACING_V2'] = 'true'\n",
    "os.environ['LANGCHAIN_ENDPOINT'] = 'https://api.smith.langchain.com'\n",
    "# set your langchain api key "
   ]
  },
  {
   "cell_type": "code",
   "execution_count": 4,
   "id": "b8cf3512",
   "metadata": {},
   "outputs": [],
   "source": [
    "# Load Documents\n",
    "from langchain_community.document_loaders import PyPDFLoader\n",
    "loader = PyPDFLoader('/Users/gustavo/Developer/RAG-youtube-tutorial/rag-tutorial-v2/data/fig-code-of-points-2025-2028.pdf')\n",
    "pages = []\n",
    "async for page in loader.alazy_load():\n",
    "    pages.append(page)"
   ]
  },
  {
   "cell_type": "code",
   "execution_count": 5,
   "id": "19835bc5",
   "metadata": {},
   "outputs": [
    {
     "name": "stdout",
     "output_type": "stream",
     "text": [
      "{'source': '/Users/gustavo/Developer/RAG-youtube-tutorial/rag-tutorial-v2/data/fig-code-of-points-2025-2028.pdf', 'page': 0}\n",
      "\n",
      " \n",
      "Men ’s Artistic Gymnastics – 2025 -2028 Code of Points   Page 1 \n",
      "   \n",
      "MEN’S ARTISTIC GYMNASTCS  \n",
      "Approved by the FIG Executive Committee, on February  2024  \n",
      "Date of publication:  01st July 2024  CODE OF POINTS  \n",
      "2025 -2028  \n"
     ]
    }
   ],
   "source": [
    "print(f\"{pages[0].metadata}\\n\")\n",
    "print(pages[0].page_content)"
   ]
  },
  {
   "cell_type": "code",
   "execution_count": 6,
   "id": "71a20f53",
   "metadata": {},
   "outputs": [],
   "source": [
    "#Split\n",
    "from langchain.text_splitter import RecursiveCharacterTextSplitter\n",
    "text_splitter = RecursiveCharacterTextSplitter(chunk_size=1000, chunk_overlap=200)\n",
    "splits = text_splitter.split_documents(pages)"
   ]
  },
  {
   "cell_type": "code",
   "execution_count": 7,
   "id": "2045301c",
   "metadata": {},
   "outputs": [],
   "source": [
    "# Embed and Retreiver setup\n",
    "from langchain_community.vectorstores import Chroma # ChromaDB will be used for database storage \n",
    "from langchain_openai import ChatOpenAI, OpenAIEmbeddings\n",
    "vectorstore = Chroma.from_documents(documents=splits, embedding=OpenAIEmbeddings())\n",
    "retriever = vectorstore.as_retriever()\n"
   ]
  },
  {
   "cell_type": "code",
   "execution_count": 8,
   "id": "f9f75575",
   "metadata": {},
   "outputs": [],
   "source": [
    "#### Retrieval and generation\n",
    "\n",
    "# Prompt\n",
    "from langchain import hub # this is a community hub of prompts for llm\n",
    "prompt = hub.pull(\"rlm/rag-prompt\")\n"
   ]
  },
  {
   "cell_type": "code",
   "execution_count": 9,
   "id": "33f9c551",
   "metadata": {},
   "outputs": [],
   "source": [
    "# LLM\n",
    "llm = ChatOpenAI(model_name=\"gpt-4o-mini\", temperature=0)\n"
   ]
  },
  {
   "cell_type": "code",
   "execution_count": 10,
   "id": "3f513066",
   "metadata": {},
   "outputs": [],
   "source": [
    "# Post processing\n",
    "def format_docs(docs):\n",
    "    return \"\\n\\n\".join(doc.page_content for doc in docs)\n"
   ]
  },
  {
   "cell_type": "code",
   "execution_count": 11,
   "id": "beddd450",
   "metadata": {},
   "outputs": [],
   "source": [
    "# Chain\n",
    "from langchain_core.runnables import RunnablePassthrough\n",
    "from langchain_core.output_parsers import StrOutputParser\n",
    "rag_chain = (\n",
    "{\"context\": retriever | format_docs, \"question\": RunnablePassthrough()}\n",
    "    | prompt\n",
    "    | llm\n",
    "    | StrOutputParser()\n",
    ")"
   ]
  },
  {
   "cell_type": "code",
   "execution_count": 12,
   "id": "41694a00",
   "metadata": {},
   "outputs": [
    {
     "data": {
      "text/plain": [
       "'Judges should wear the FIG prescribed competition uniform, which consists of a dark blue suit and a white shirt with a tie. In competitions where the uniform is supplied by the Organizing Committee, judges should wear that instead. Additionally, they must maintain a professional appearance throughout the event.'"
      ]
     },
     "execution_count": 12,
     "metadata": {},
     "output_type": "execute_result"
    }
   ],
   "source": [
    "rag_chain.invoke(\"What should judges wear to competitions?\")"
   ]
  },
  {
   "cell_type": "code",
   "execution_count": 13,
   "id": "8676bc16",
   "metadata": {},
   "outputs": [
    {
     "data": {
      "text/plain": [
       "'There are three element groups on the pommel horse, designated as I, II, and III, along with a Dismount Group designated as IV. Gymnasts must include at least one element from each of the three Element Groups in their exercise. The Dismount Group is required to conclude the routine.'"
      ]
     },
     "execution_count": 13,
     "metadata": {},
     "output_type": "execute_result"
    }
   ],
   "source": [
    "rag_chain.invoke(\"How many element groups are there on Pommel horse, and what are they?\")"
   ]
  },
  {
   "cell_type": "code",
   "execution_count": 14,
   "id": "ba755419",
   "metadata": {},
   "outputs": [
    {
     "data": {
      "text/plain": [
       "'A Roth falls into Element Group III, which includes travel type elements. This group also encompasses other elements like Tong Fei and Wu Guonian.'"
      ]
     },
     "execution_count": 14,
     "metadata": {},
     "output_type": "execute_result"
    }
   ],
   "source": [
    "rag_chain.invoke(\"What element group does a Roth fall into\")"
   ]
  },
  {
   "cell_type": "code",
   "execution_count": 15,
   "id": "e70cfa37",
   "metadata": {},
   "outputs": [
    {
     "data": {
      "text/plain": [
       "\"A maximum of two cross support travels (forwards and/or backwards) are permitted during an exercise. This rule applies specifically to certain designated travels in men's artistic gymnastics.\""
      ]
     },
     "execution_count": 15,
     "metadata": {},
     "output_type": "execute_result"
    }
   ],
   "source": [
    "rag_chain.invoke(\"How many cross support travels are allowed during an exercise?\")"
   ]
  },
  {
   "cell_type": "code",
   "execution_count": 16,
   "id": "4a6b1b5a",
   "metadata": {},
   "outputs": [
    {
     "data": {
      "text/plain": [
       "\"To calculate the start value of a routine, begin timing when the gymnast's feet leave the floor. The routine must start in a hang position with straight arms and a vertical body, and any arm bending is only allowed if necessary for the completion of an element. The start value is determined based on the difficulty of the elements performed, as outlined in the Difficulty Tables.\""
      ]
     },
     "execution_count": 16,
     "metadata": {},
     "output_type": "execute_result"
    }
   ],
   "source": [
    "rag_chain.invoke(\"How do you calculate the start value of a routine?\")"
   ]
  },
  {
   "cell_type": "code",
   "execution_count": 17,
   "id": "8695bb88",
   "metadata": {},
   "outputs": [
    {
     "data": {
      "text/plain": [
       "\"The retrieved context does not provide specific information about the value of a double front on floor. Therefore, I don't know the answer.\""
      ]
     },
     "execution_count": 17,
     "metadata": {},
     "output_type": "execute_result"
    }
   ],
   "source": [
    "rag_chain.invoke(\"What is a double front on floor worth?\")"
   ]
  },
  {
   "cell_type": "code",
   "execution_count": 18,
   "id": "242f5a95",
   "metadata": {},
   "outputs": [
    {
     "data": {
      "text/plain": [
       "\"The context does not provide specific information about the value of a Honma straight. Therefore, I don't know the answer.\""
      ]
     },
     "execution_count": 18,
     "metadata": {},
     "output_type": "execute_result"
    }
   ],
   "source": [
    "rag_chain.invoke(\"What is a honma straight worth?\")"
   ]
  },
  {
   "cell_type": "code",
   "execution_count": null,
   "id": "27736033",
   "metadata": {},
   "outputs": [],
   "source": []
  }
 ],
 "metadata": {
  "kernelspec": {
   "display_name": "Python 3 (ipykernel)",
   "language": "python",
   "name": "python3"
  },
  "language_info": {
   "codemirror_mode": {
    "name": "ipython",
    "version": 3
   },
   "file_extension": ".py",
   "mimetype": "text/x-python",
   "name": "python",
   "nbconvert_exporter": "python",
   "pygments_lexer": "ipython3",
   "version": "3.11.8"
  }
 },
 "nbformat": 4,
 "nbformat_minor": 5
}
